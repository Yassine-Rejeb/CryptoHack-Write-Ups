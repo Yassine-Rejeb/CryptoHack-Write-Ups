{
  "nbformat": 4,
  "nbformat_minor": 0,
  "metadata": {
    "colab": {
      "provenance": []
    },
    "kernelspec": {
      "name": "python3",
      "display_name": "Python 3"
    },
    "language_info": {
      "name": "python"
    }
  },
  "cells": [
    {
      "cell_type": "markdown",
      "source": [
        "# Great Snakes\n",
        "\n",
        "Just run a code snippet."
      ],
      "metadata": {
        "id": "q-xzwRNT3yVi"
      }
    },
    {
      "cell_type": "code",
      "execution_count": 1,
      "metadata": {
        "colab": {
          "base_uri": "https://localhost:8080/"
        },
        "id": "rY2xdU5o3s1E",
        "outputId": "a3715be0-79b3-4cd6-9ec9-8e94736ccee6"
      },
      "outputs": [
        {
          "output_type": "stream",
          "name": "stdout",
          "text": [
            "Here is your flag:\n",
            "crypto{z3n_0f_pyth0n}\n"
          ]
        }
      ],
      "source": [
        "#!/usr/bin/env python3\n",
        "\n",
        "import sys\n",
        "# import this\n",
        "\n",
        "if sys.version_info.major == 2:\n",
        "    print(\"You are running Python 2, which is no longer supported. Please update to Python 3.\")\n",
        "\n",
        "ords = [81, 64, 75, 66, 70, 93, 73, 72, 1, 92, 109, 2, 84, 109, 66, 75, 70, 90, 2, 92, 79]\n",
        "\n",
        "print(\"Here is your flag:\")\n",
        "print(\"\".join(chr(o ^ 0x32) for o in ords))"
      ]
    },
    {
      "cell_type": "markdown",
      "source": [
        "# Network Attacks\n",
        "\n",
        "Continue over the code to get the flag from the tcp server"
      ],
      "metadata": {
        "id": "s_f9YS174lMK"
      }
    },
    {
      "cell_type": "code",
      "source": [
        "#!/usr/bin/env python3\n",
        "import telnetlib\n",
        "import json\n",
        "HOST = \"socket.cryptohack.org\"\n",
        "PORT = 11112\n",
        "tn = telnetlib.Telnet(HOST, PORT)\n",
        "def readline():\n",
        "    return tn.read_until(b\"\\n\")\n",
        "def json_recv():\n",
        "    line = readline()\n",
        "    return json.loads(line.decode())\n",
        "def json_send(hsh):\n",
        "    request = json.dumps(hsh).encode()\n",
        "    tn.write(request)\n",
        "print(readline())\n",
        "print(readline())\n",
        "print(readline())\n",
        "print(readline())\n",
        "request = {\n",
        "    \"buy\": \"flag\"\n",
        "}\n",
        "json_send(request)\n",
        "response = json_recv()\n",
        "print(response)"
      ],
      "metadata": {
        "colab": {
          "base_uri": "https://localhost:8080/"
        },
        "id": "i7Quu7-r6MGU",
        "outputId": "971d4732-cb63-477d-cc46-ab23864dd20f"
      },
      "execution_count": 2,
      "outputs": [
        {
          "output_type": "stream",
          "name": "stdout",
          "text": [
            "b\"Welcome to netcat's flag shop!\\n\"\n",
            "b'What would you like to buy?\\n'\n",
            "b\"I only speak JSON, I hope that's ok.\\n\"\n",
            "b'\\n'\n",
            "{'flag': 'crypto{sh0pp1ng_f0r_fl4g5}'}\n"
          ]
        }
      ]
    }
  ]
}