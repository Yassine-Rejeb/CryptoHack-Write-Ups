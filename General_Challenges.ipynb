{
  "nbformat": 4,
  "nbformat_minor": 0,
  "metadata": {
    "colab": {
      "provenance": [],
      "collapsed_sections": [
        "7DG981MIGKFB",
        "l3YCpUf1Cgwq",
        "8jxjI2jUDc8H",
        "OljT6fj1FXZg",
        "89CwQt1bF_eA",
        "4iHjpniKHMQ4"
      ]
    },
    "kernelspec": {
      "name": "python3",
      "display_name": "Python 3"
    },
    "language_info": {
      "name": "python"
    }
  },
  "cells": [
    {
      "cell_type": "markdown",
      "source": [
        "# ENCODINGS"
      ],
      "metadata": {
        "id": "7DG981MIGKFB"
      }
    },
    {
      "cell_type": "markdown",
      "source": [
        "## ASCII\n",
        "ASCII is a 7-bit encoding standard which allows the representation of text using the integers 0-127.\n",
        "\n",
        "Using the below integer array, convert the numbers to their corresponding ASCII characters to obtain a flag.\n",
        "\n",
        "[99, 114, 121, 112, 116, 111, 123, 65, 83, 67, 73, 73, 95, 112, 114, 49, 110, 116, 52, 98, 108, 51, 125]"
      ],
      "metadata": {
        "id": "l3YCpUf1Cgwq"
      }
    },
    {
      "cell_type": "code",
      "execution_count": null,
      "metadata": {
        "colab": {
          "base_uri": "https://localhost:8080/"
        },
        "id": "YY9G-R1cCdyP",
        "outputId": "b80d6c5a-9810-4dd7-f362-e6f307168a55"
      },
      "outputs": [
        {
          "output_type": "stream",
          "name": "stdout",
          "text": [
            "crypto{ASCII_pr1nt4bl3}"
          ]
        }
      ],
      "source": [
        "ascii = [99, 114, 121, 112, 116, 111, 123, 65, 83, 67, 73, 73, 95, 112, 114, 49, 110, 116, 52, 98, 108, 51, 125]\n",
        "for i in ascii:\n",
        "  print(chr(i),end='') "
      ]
    },
    {
      "cell_type": "markdown",
      "source": [
        "## Hex\n",
        "\n",
        "Included below is a flag encoded as a hex string. Decode this back into bytes to get the flag.\n",
        "\n",
        "**`63727970746f7b596f755f77696c6c5f62655f776f726b696e675f776974685f6865785f737472696e67735f615f6c6f747d`**\n"
      ],
      "metadata": {
        "id": "8jxjI2jUDc8H"
      }
    },
    {
      "cell_type": "code",
      "source": [
        "!pip install pwntools"
      ],
      "metadata": {
        "colab": {
          "base_uri": "https://localhost:8080/"
        },
        "id": "UWxxXxJYENpI",
        "outputId": "850de3f9-0dd5-4a4f-fb10-ec29ec794b2e"
      },
      "execution_count": null,
      "outputs": [
        {
          "output_type": "stream",
          "name": "stdout",
          "text": [
            "Successfully installed bcrypt-4.0.1 capstone-5.0.0rc2 colored-traceback-0.3.0 cryptography-38.0.3 intervaltree-3.1.0 mako-1.2.4 paramiko-2.12.0 pathlib2-2.3.7.post1 plumbum-1.8.0 pwntools-4.8.0 pyelftools-0.29 pynacl-1.5.0 pyserial-3.5 ropgadget-7.1 rpyc-5.3.0 unicorn-2.0.1.post1\n"
          ]
        }
      ]
    },
    {
      "cell_type": "code",
      "source": [
        "%env PWNLIB_NOTERM=true"
      ],
      "metadata": {
        "colab": {
          "base_uri": "https://localhost:8080/"
        },
        "id": "ke7Vol59ExUh",
        "outputId": "1d737612-5a94-46c9-95be-0d0cbf5c6fc3"
      },
      "execution_count": null,
      "outputs": [
        {
          "output_type": "stream",
          "name": "stdout",
          "text": [
            "env: PWNLIB_NOTERM=true\n"
          ]
        }
      ]
    },
    {
      "cell_type": "code",
      "source": [
        "from pwnlib.util.fiddling import *\n",
        "cipher = \"63727970746f7b596f755f77696c6c5f62655f776f726b696e675f776974685f6865785f737472696e67735f615f6c6f747d\"\n",
        "def uhex(cipher):\n",
        "  return unhex(cipher).decode()\n",
        "print(uhex(cipher))"
      ],
      "metadata": {
        "colab": {
          "base_uri": "https://localhost:8080/"
        },
        "id": "PKYMn7gyDrUX",
        "outputId": "0aafa03d-54e6-4b43-ff3c-6c915a1dc349"
      },
      "execution_count": null,
      "outputs": [
        {
          "output_type": "stream",
          "name": "stdout",
          "text": [
            "crypto{You_will_be_working_with_hex_strings_a_lot}\n"
          ]
        }
      ]
    },
    {
      "cell_type": "markdown",
      "source": [
        "## BASE64\n",
        "\n",
        "Take the below hex string, decode it into bytes and then encode it into Base64.\n",
        "\n",
        "**`72bca9b68fc16ac7beeb8f849dca1d8a783e8acf9679bf9269f7bf`**"
      ],
      "metadata": {
        "id": "OljT6fj1FXZg"
      }
    },
    {
      "cell_type": "code",
      "source": [
        "cipher = \"72bca9b68fc16ac7beeb8f849dca1d8a783e8acf9679bf9269f7bf\"\n",
        "def base64(cipher):\n",
        "  return b64d(cipher.encode())\n",
        "\n",
        "def base64e(cipher):\n",
        "  return b64e(cipher)\n",
        "print(base64e(unhex(cipher)))"
      ],
      "metadata": {
        "colab": {
          "base_uri": "https://localhost:8080/"
        },
        "id": "8UghVNqtFtt3",
        "outputId": "f4744233-79d4-4da8-eea0-2d69eb7003b8"
      },
      "execution_count": 165,
      "outputs": [
        {
          "output_type": "stream",
          "name": "stdout",
          "text": [
            "crypto/Base+64+Encoding+is+Web+Safe/\n"
          ]
        }
      ]
    },
    {
      "cell_type": "markdown",
      "source": [
        "## Bytes and Big Integers\n",
        "\n",
        "Convert the following integer back into a message:\n",
        "\n",
        "**`11515195063862318899931685488813747395775516287289682636499965282714637259206269`**\n",
        "\n",
        "How it works:\n",
        "\n",
        "```\n",
        "message: HELLO\n",
        "ascii bytes: [72, 69, 76, 76, 79]\n",
        "hex bytes: [0x48, 0x45, 0x4c, 0x4c, 0x4f]\n",
        "base-16: 0x48454c4c4f\n",
        "base-10: 310400273487\n",
        "```\n",
        "\n"
      ],
      "metadata": {
        "id": "89CwQt1bF_eA"
      }
    },
    {
      "cell_type": "code",
      "source": [
        "!pip install pyCryptoDome"
      ],
      "metadata": {
        "id": "dwl8paEiGds4"
      },
      "execution_count": null,
      "outputs": []
    },
    {
      "cell_type": "code",
      "source": [
        "from Crypto.Util.number import bytes_to_long, long_to_bytes\n",
        "cipher = 11515195063862318899931685488813747395775516287289682636499965282714637259206269\n",
        "def bigint(cipher):\n",
        "  return long_to_bytes(cipher).decode()\n",
        "print(bigint(cipher))"
      ],
      "metadata": {
        "colab": {
          "base_uri": "https://localhost:8080/"
        },
        "id": "nrIECyI7GgYi",
        "outputId": "ee8c2d08-8b90-41a2-b43f-adecaa8e4812"
      },
      "execution_count": 114,
      "outputs": [
        {
          "output_type": "stream",
          "name": "stdout",
          "text": [
            "crypto{3nc0d1n6_4ll_7h3_w4y_d0wn}\n"
          ]
        }
      ]
    },
    {
      "cell_type": "markdown",
      "source": [
        "## Encoding Challenge\n",
        "\n",
        "Connect at `nc socket.cryptohack.org 13377`"
      ],
      "metadata": {
        "id": "4iHjpniKHMQ4"
      }
    },
    {
      "cell_type": "markdown",
      "source": [
        "Defining functions for decrypting data"
      ],
      "metadata": {
        "id": "veXo_MiOTrO5"
      }
    },
    {
      "cell_type": "code",
      "source": [
        "def rot13(cipher):\n",
        "  res = \"\"\n",
        "  for i in cipher:\n",
        "    if not i.isalpha():\n",
        "      res += i\n",
        "      continue\n",
        "    rot = ord(i)+13 if ((ord(i)+13<=122)or(ord(i)+13<=90)) else ord(i)-13\n",
        "    res += chr(rot)\n",
        "  return res\n",
        "\n",
        "def utf_8(cipher):\n",
        "  res = \"\"\n",
        "  for i in cipher:\n",
        "    res += chr(i)\n",
        "  return res"
      ],
      "metadata": {
        "id": "cqbkW5KdMXWg"
      },
      "execution_count": 153,
      "outputs": []
    },
    {
      "cell_type": "markdown",
      "source": [
        "Calling functions according to the type of encryption"
      ],
      "metadata": {
        "id": "eyj555vyTwBJ"
      }
    },
    {
      "cell_type": "code",
      "source": [
        "def decrypt(entype, cipher):\n",
        "  if entype==\"base64\":\n",
        "    return base64(cipher).decode()\n",
        "  elif entype==\"bigint\":\n",
        "    return bigint(int(cipher,base=16))\n",
        "  elif entype==\"rot13\":\n",
        "    return rot13(cipher)\n",
        "  elif entype==\"utf-8\":\n",
        "    return utf_8(cipher)\n",
        "  elif entype==\"hex\":\n",
        "    return uhex(cipher)"
      ],
      "metadata": {
        "id": "Ir7XtnEgL-Wy"
      },
      "execution_count": 166,
      "outputs": []
    },
    {
      "cell_type": "code",
      "source": [
        "import telnetlib\n",
        "import json\n",
        "\n",
        "HOST = \"socket.cryptohack.org\"\n",
        "PORT = 13377\n",
        "\n",
        "tn = telnetlib.Telnet(HOST, PORT)\n",
        "\n",
        "def readline():\n",
        "    return tn.read_until(b\"\\n\")\n",
        "\n",
        "def json_recv():\n",
        "    line = readline()\n",
        "    return json.loads(line.decode())\n",
        "\n",
        "def json_send(hsh):\n",
        "    request = json.dumps(hsh).encode()\n",
        "    tn.write(request)\n",
        "for i in range(100):\n",
        "  received = json_recv()\n",
        "  print(received)\n",
        "  entype = received[\"type\"]\n",
        "  cipher = received[\"encoded\"]\n",
        "  plain = decrypt(entype, cipher)\n",
        "  to_send = {\"decoded\": plain}\n",
        "  print(\"plain: \",plain)\n",
        "  json_send(to_send)\n",
        "\n",
        "print(json_recv())\n"
      ],
      "metadata": {
        "id": "fK3kx-VSKogn",
        "colab": {
          "base_uri": "https://localhost:8080/"
        },
        "outputId": "8880d4fa-5757-4669-da13-25cd11c457d3"
      },
      "execution_count": 167,
      "outputs": [
        {
          "output_type": "stream",
          "name": "stdout",
          "text": [
            "{'type': 'hex', 'encoded': '6b615f6d6175695f737475636b'}\n",
            "plain:  ka_maui_stuck\n",
            "{'type': 'base64', 'encoded': 'c2NvdGxhbmRfcGVyc29uc19zd2lzcw=='}\n",
            "plain:  scotland_persons_swiss\n",
            "{'type': 'rot13', 'encoded': 'guerngf_granag_tah'}\n",
            "plain:  threats_tenant_gnu\n",
            "{'type': 'rot13', 'encoded': 'wc_zyf_fcnva'}\n",
            "plain:  jp_mls_spain\n",
            "{'type': 'base64', 'encoded': 'cG1jX3dyaXRlX3NvZGl1bQ=='}\n",
            "plain:  pmc_write_sodium\n",
            "{'type': 'utf-8', 'encoded': [102, 99, 99, 95, 109, 111, 110, 105, 116, 111, 114, 115, 95, 115, 104, 97, 114, 101, 104, 111, 108, 100, 101, 114, 115]}\n",
            "plain:  fcc_monitors_shareholders\n",
            "{'type': 'hex', 'encoded': '6c6c635f6c65617665735f64657369676e73'}\n",
            "plain:  llc_leaves_designs\n",
            "{'type': 'bigint', 'encoded': '0x696e76697369626c655f74656c6570686f6e655f6567797074'}\n",
            "plain:  invisible_telephone_egypt\n",
            "{'type': 'bigint', 'encoded': '0x6578636c7564696e675f72616e64795f636f6e7461696e696e67'}\n",
            "plain:  excluding_randy_containing\n",
            "{'type': 'hex', 'encoded': '73656c6563745f64657374696e6174696f6e5f636f6e7665727469626c65'}\n",
            "plain:  select_destination_convertible\n",
            "{'type': 'bigint', 'encoded': '0x6576616c5f746f6f6c626f785f67617973'}\n",
            "plain:  eval_toolbox_gays\n",
            "{'type': 'base64', 'encoded': 'Y2FsY3VsYXRpb25fdHJlYXRtZW50c19hbmRhbGU='}\n",
            "plain:  calculation_treatments_andale\n",
            "{'type': 'hex', 'encoded': '677572755f62656e745f616c6162616d61'}\n",
            "plain:  guru_bent_alabama\n",
            "{'type': 'hex', 'encoded': '6368696e6573655f626f785f706f7274696f6e73'}\n",
            "plain:  chinese_box_portions\n",
            "{'type': 'hex', 'encoded': '67726f7570735f6672616e6369735f67796d'}\n",
            "plain:  groups_francis_gym\n",
            "{'type': 'utf-8', 'encoded': [116, 114, 97, 105, 110, 105, 110, 103, 95, 115, 101, 99, 114, 101, 116, 97, 114, 105, 97, 116, 95, 98, 117, 110, 99, 104]}\n",
            "plain:  training_secretariat_bunch\n",
            "{'type': 'hex', 'encoded': '636f6d706c69636174696f6e735f636f6d705f6772'}\n",
            "plain:  complications_comp_gr\n",
            "{'type': 'hex', 'encoded': '696e746572766965775f77696e645f7377'}\n",
            "plain:  interview_wind_sw\n",
            "{'type': 'base64', 'encoded': 'YW1hbmRhX25vbWluYXRlZF9yZWR1Y3Rpb25z'}\n",
            "plain:  amanda_nominated_reductions\n",
            "{'type': 'utf-8', 'encoded': [101, 110, 98, 95, 118, 101, 108, 111, 99, 105, 116, 121, 95, 113, 117, 111, 116, 101, 115]}\n",
            "plain:  enb_velocity_quotes\n",
            "{'type': 'rot13', 'encoded': 'qensg_tr_znegva'}\n",
            "plain:  draft_ge_martin\n",
            "{'type': 'utf-8', 'encoded': [112, 101, 115, 116, 95, 115, 112, 101, 99, 105, 102, 121, 95, 99, 101, 114, 116, 97, 105, 110, 108, 121]}\n",
            "plain:  pest_specify_certainly\n",
            "{'type': 'bigint', 'encoded': '0x6f6e65735f636c6561725f636c6f7468696e67'}\n",
            "plain:  ones_clear_clothing\n",
            "{'type': 'utf-8', 'encoded': [102, 117, 110, 107, 121, 95, 104, 105, 109, 95, 99, 108, 105, 110, 116, 111, 110]}\n",
            "plain:  funky_him_clinton\n",
            "{'type': 'bigint', 'encoded': '0x7374616e64696e67735f7374617274735f656d6261737379'}\n",
            "plain:  standings_starts_embassy\n",
            "{'type': 'hex', 'encoded': '635f77775f636f7272656374'}\n",
            "plain:  c_ww_correct\n",
            "{'type': 'rot13', 'encoded': 'uhznaf_qve_abez'}\n",
            "plain:  humans_dir_norm\n",
            "{'type': 'utf-8', 'encoded': [108, 105, 101, 95, 118, 111, 108, 117, 109, 101, 115, 95, 108, 111, 103]}\n",
            "plain:  lie_volumes_log\n",
            "{'type': 'hex', 'encoded': '67615f62696b655f61646a7573746564'}\n",
            "plain:  ga_bike_adjusted\n",
            "{'type': 'utf-8', 'encoded': [106, 111, 105, 110, 105, 110, 103, 95, 104, 116, 109, 108, 95, 98, 114, 111, 97, 100, 99, 97, 115, 116]}\n",
            "plain:  joining_html_broadcast\n",
            "{'type': 'hex', 'encoded': '736172615f70725f646576656c6f70696e67'}\n",
            "plain:  sara_pr_developing\n",
            "{'type': 'hex', 'encoded': '68756d6f725f706f64636173745f7769636b6564'}\n",
            "plain:  humor_podcast_wicked\n",
            "{'type': 'bigint', 'encoded': '0x657874656e73696f6e5f72656163685f7072696e636970616c'}\n",
            "plain:  extension_reach_principal\n",
            "{'type': 'rot13', 'encoded': 'fvyyl_yrjvf_evooba'}\n",
            "plain:  silly_lewis_ribbon\n",
            "{'type': 'bigint', 'encoded': '0x6d697373696c655f6566666563745f62656c61727573'}\n",
            "plain:  missile_effect_belarus\n",
            "{'type': 'base64', 'encoded': 'bWVhbHNfY3ViZV9yYQ=='}\n",
            "plain:  meals_cube_ra\n",
            "{'type': 'rot13', 'encoded': 'avntnen_fryy_hagvgyrq'}\n",
            "plain:  niagara_sell_untitled\n",
            "{'type': 'hex', 'encoded': '64656d6f6e7374726174655f6963715f73616e73'}\n",
            "plain:  demonstrate_icq_sans\n",
            "{'type': 'utf-8', 'encoded': [99, 108, 97, 105, 109, 115, 95, 115, 116, 111, 112, 115, 95, 102, 108, 111, 111, 100]}\n",
            "plain:  claims_stops_flood\n",
            "{'type': 'bigint', 'encoded': '0x6c61747669615f6d6f64656c696e675f6361757365'}\n",
            "plain:  latvia_modeling_cause\n",
            "{'type': 'hex', 'encoded': '6f75725f6879706f7468657369735f6361726566756c'}\n",
            "plain:  our_hypothesis_careful\n",
            "{'type': 'rot13', 'encoded': 'crevcurenyf_neovgenel_cnaryf'}\n",
            "plain:  peripherals_arbitrary_panels\n",
            "{'type': 'bigint', 'encoded': '0x6c6f7569735f636f6e7665727465645f657870657269656e6365'}\n",
            "plain:  louis_converted_experience\n",
            "{'type': 'hex', 'encoded': '676d5f7075736865645f70657268617073'}\n",
            "plain:  gm_pushed_perhaps\n",
            "{'type': 'base64', 'encoded': 'bnZpZGlhX2Rlc3RpbmF0aW9uX3Bp'}\n",
            "plain:  nvidia_destination_pi\n",
            "{'type': 'base64', 'encoded': 'aW50ZWxsaWdlbnRfaHVnaGVzX2RhbQ=='}\n",
            "plain:  intelligent_hughes_dam\n",
            "{'type': 'rot13', 'encoded': 'gverq_vaqvpngvba_erfbyhgvba'}\n",
            "plain:  tired_indication_resolution\n",
            "{'type': 'bigint', 'encoded': '0x6d726e615f6f68696f5f646f64'}\n",
            "plain:  mrna_ohio_dod\n",
            "{'type': 'bigint', 'encoded': '0x657870656e6469747572655f6c6f6e656c795f6265726c696e'}\n",
            "plain:  expenditure_lonely_berlin\n",
            "{'type': 'hex', 'encoded': '73686565745f6d757365756d735f7265766973696f6e'}\n",
            "plain:  sheet_museums_revision\n",
            "{'type': 'utf-8', 'encoded': [99, 111, 109, 112, 108, 101, 109, 101, 110, 116, 95, 110, 101, 116, 119, 111, 114, 107, 95, 99, 111, 109, 105, 110, 103]}\n",
            "plain:  complement_network_coming\n",
            "{'type': 'rot13', 'encoded': 'jneenagl_urer_jvagre'}\n",
            "plain:  warranty_here_winter\n",
            "{'type': 'rot13', 'encoded': 'qna_fgnghgbel_vk'}\n",
            "plain:  dan_statutory_ix\n",
            "{'type': 'rot13', 'encoded': 'yvgr_cn_onfranzr'}\n",
            "plain:  lite_pa_basename\n",
            "{'type': 'base64', 'encoded': 'cHVsbGVkX2hhaXRpX3Blbm5zeWx2YW5pYQ=='}\n",
            "plain:  pulled_haiti_pennsylvania\n",
            "{'type': 'bigint', 'encoded': '0x7061726167726170685f7063695f68656c70696e67'}\n",
            "plain:  paragraph_pci_helping\n",
            "{'type': 'base64', 'encoded': 'c2hpcnRzX2Jvc3NfZWFzdGVybg=='}\n",
            "plain:  shirts_boss_eastern\n",
            "{'type': 'base64', 'encoded': 'cm9zc19nZW9ncmFwaGljYWxfeWV0'}\n",
            "plain:  ross_geographical_yet\n",
            "{'type': 'bigint', 'encoded': '0x686b5f6272616e646f6e5f67616d6d61'}\n",
            "plain:  hk_brandon_gamma\n",
            "{'type': 'base64', 'encoded': 'c2Vhc29uc19tZWRpdGF0aW9uX29mZmVy'}\n",
            "plain:  seasons_meditation_offer\n",
            "{'type': 'base64', 'encoded': 'cGhvdG9ncmFwaHlfaG9ybl9mdW5kZWQ='}\n",
            "plain:  photography_horn_funded\n",
            "{'type': 'rot13', 'encoded': 'ohvyg_pneel_crapvy'}\n",
            "plain:  built_carry_pencil\n",
            "{'type': 'utf-8', 'encoded': [112, 97, 114, 101, 110, 116, 95, 97, 109, 98, 97, 115, 115, 97, 100, 111, 114, 95, 112, 97, 121, 112, 97, 108]}\n",
            "plain:  parent_ambassador_paypal\n",
            "{'type': 'utf-8', 'encoded': [101, 110, 103, 108, 97, 110, 100, 95, 103, 121, 109, 95, 116, 97, 115, 107]}\n",
            "plain:  england_gym_task\n",
            "{'type': 'hex', 'encoded': '636f6e737472756374696f6e5f67656e6576615f706f6c696365'}\n",
            "plain:  construction_geneva_police\n",
            "{'type': 'utf-8', 'encoded': [97, 105, 100, 115, 95, 103, 114, 97, 99, 101, 95, 102, 111, 115, 116, 101, 114]}\n",
            "plain:  aids_grace_foster\n",
            "{'type': 'base64', 'encoded': 'cXVhcnRlcnNfdGhyZXNob2xkX3ByaW9y'}\n",
            "plain:  quarters_threshold_prior\n",
            "{'type': 'bigint', 'encoded': '0x6361757365735f6e6f74696365645f6163636573736f72696573'}\n",
            "plain:  causes_noticed_accessories\n",
            "{'type': 'rot13', 'encoded': 'zragvba_nppbhagnovyvgl_guhaqre'}\n",
            "plain:  mention_accountability_thunder\n",
            "{'type': 'rot13', 'encoded': 'zbguref_pbyhza_fhofrdhragyl'}\n",
            "plain:  mothers_column_subsequently\n",
            "{'type': 'base64', 'encoded': 'YWRpcGV4X3ByZXNlbnRlZF9kYXM='}\n",
            "plain:  adipex_presented_das\n",
            "{'type': 'bigint', 'encoded': '0x7175695f67656d5f686f7374656c'}\n",
            "plain:  qui_gem_hostel\n",
            "{'type': 'base64', 'encoded': 'aW5jbHVzaXZlX2NhbXBhaWduX3N0ZXJsaW5n'}\n",
            "plain:  inclusive_campaign_sterling\n",
            "{'type': 'rot13', 'encoded': 'bccbfrq_znggerff_fgngrq'}\n",
            "plain:  opposed_mattress_stated\n",
            "{'type': 'hex', 'encoded': '7275737369616e5f67656e657369735f6c6976696e67'}\n",
            "plain:  russian_genesis_living\n",
            "{'type': 'base64', 'encoded': 'eGVyb3hfa2V2aW5fYmlsbGluZw=='}\n",
            "plain:  xerox_kevin_billing\n",
            "{'type': 'base64', 'encoded': 'cmFyZWx5X3Rvd25fZXhwZWRpYQ=='}\n",
            "plain:  rarely_town_expedia\n",
            "{'type': 'bigint', 'encoded': '0x7061726b5f796f7574685f7365676d656e74'}\n",
            "plain:  park_youth_segment\n",
            "{'type': 'rot13', 'encoded': 'ebo_ynhtu_zngurzngvpf'}\n",
            "plain:  rob_laugh_mathematics\n",
            "{'type': 'rot13', 'encoded': 'abgvsl_pbzzbayl_zvtug'}\n",
            "plain:  notify_commonly_might\n",
            "{'type': 'rot13', 'encoded': 'ngz_rkgraqrq_gbhevat'}\n",
            "plain:  atm_extended_touring\n",
            "{'type': 'hex', 'encoded': '686172645f6c6963656e63655f6174746974756465'}\n",
            "plain:  hard_licence_attitude\n",
            "{'type': 'rot13', 'encoded': 'oevrsf_pbyyvaf_rat'}\n",
            "plain:  briefs_collins_eng\n",
            "{'type': 'rot13', 'encoded': 'fhqna_gnxr_sbbq'}\n",
            "plain:  sudan_take_food\n",
            "{'type': 'bigint', 'encoded': '0x6c6973615f616476657274697365725f706f70756c6172697479'}\n",
            "plain:  lisa_advertiser_popularity\n",
            "{'type': 'bigint', 'encoded': '0x7068696c697070696e65735f6173736973745f687562'}\n",
            "plain:  philippines_assist_hub\n",
            "{'type': 'utf-8', 'encoded': [97, 109, 100, 95, 114, 101, 115, 116, 114, 117, 99, 116, 117, 114, 105, 110, 103, 95, 122, 101, 110]}\n",
            "plain:  amd_restructuring_zen\n",
            "{'type': 'base64', 'encoded': 'dmVudHVyZV9idXJsaW5ndG9uX3Npc3RlcnM='}\n",
            "plain:  venture_burlington_sisters\n",
            "{'type': 'hex', 'encoded': '6576616c756174696e675f666561747572696e675f68656c64'}\n",
            "plain:  evaluating_featuring_held\n",
            "{'type': 'rot13', 'encoded': 'pnfvb_uhfonaq_mfubcf'}\n",
            "plain:  casio_husband_zshops\n",
            "{'type': 'utf-8', 'encoded': [116, 101, 97, 99, 104, 95, 97, 119, 97, 114, 100, 115, 95, 99, 99, 100]}\n",
            "plain:  teach_awards_ccd\n",
            "{'type': 'utf-8', 'encoded': [119, 97, 108, 95, 100, 106, 95, 112, 114, 111, 109, 111]}\n",
            "plain:  wal_dj_promo\n",
            "{'type': 'hex', 'encoded': '6469676974616c5f7374645f7363686564756c65'}\n",
            "plain:  digital_std_schedule\n",
            "{'type': 'hex', 'encoded': '616273656e745f6473635f6d69786564'}\n",
            "plain:  absent_dsc_mixed\n",
            "{'type': 'bigint', 'encoded': '0x6f6c796d7075735f706f6c655f6372797374616c'}\n",
            "plain:  olympus_pole_crystal\n",
            "{'type': 'hex', 'encoded': '6f636375706174696f6e735f636c696d625f726563697065'}\n",
            "plain:  occupations_climb_recipe\n",
            "{'type': 'bigint', 'encoded': '0x6672616d65735f6d6973735f72617069646c79'}\n",
            "plain:  frames_miss_rapidly\n",
            "{'type': 'hex', 'encoded': '73696d696c61725f7975676f736c617669615f616363657074'}\n",
            "plain:  similar_yugoslavia_accept\n",
            "{'type': 'rot13', 'encoded': 'zgi_gjragl_arjnex'}\n",
            "plain:  mtv_twenty_newark\n",
            "{'type': 'utf-8', 'encoded': [104, 116, 109, 108, 95, 102, 108, 111, 111, 114, 105, 110, 103, 95, 115, 101, 108, 101, 99, 116]}\n",
            "plain:  html_flooring_select\n",
            "{'flag': 'crypto{3nc0d3_d3c0d3_3nc0d3}'}\n"
          ]
        }
      ]
    },
    {
      "cell_type": "markdown",
      "source": [
        "# XOR"
      ],
      "metadata": {
        "id": "LLoSoZGgTWRf"
      }
    },
    {
      "cell_type": "markdown",
      "source": [
        "## XOR Starter\n",
        "Given the string \"label\", XOR each character with the integer 13. Convert these integers back to a string and submit the flag as crypto{new_string}."
      ],
      "metadata": {
        "id": "N0AL-tTYTYOv"
      }
    },
    {
      "cell_type": "code",
      "source": [
        "!pip install pwntools\n",
        "%env PWNLIB_NOTERM=true"
      ],
      "metadata": {
        "id": "sevAUCM_TamL"
      },
      "execution_count": null,
      "outputs": []
    },
    {
      "cell_type": "code",
      "source": [
        "from pwnlib.util.fiddling import xor\n",
        "plain = \"label\"\n",
        "key = 13\n",
        "xor(plain.encode(),key).decode()"
      ],
      "metadata": {
        "colab": {
          "base_uri": "https://localhost:8080/",
          "height": 35
        },
        "id": "S_AHBhM5VeOv",
        "outputId": "a392e5c0-472e-4398-c041-1cabe72599e4"
      },
      "execution_count": 171,
      "outputs": [
        {
          "output_type": "execute_result",
          "data": {
            "text/plain": [
              "'aloha'"
            ],
            "application/vnd.google.colaboratory.intrinsic+json": {
              "type": "string"
            }
          },
          "metadata": {},
          "execution_count": 171
        }
      ]
    },
    {
      "cell_type": "markdown",
      "source": [
        "## XOR Properties\n",
        "\n",
        "Below is a series of outputs where three random keys have been XOR'd together and with the flag. Use the above properties to undo the encryption in the final line to obtain the flag.\n",
        "\n",
        "\n",
        "```\n",
        "KEY1 = a6c8b6733c9b22de7bc0253266a3867df55acde8635e19c73313\n",
        "KEY2 ^ KEY1 = 37dcb292030faa90d07eec17e3b1c6d8daf94c35d4c9191a5e1e\n",
        "KEY2 ^ KEY3 = c1545756687e7573db23aa1c3452a098b71a7fbf0fddddde5fc1\n",
        "FLAG ^ KEY1 ^ KEY3 ^ KEY2 = 04ee9855208a2cd59091d04767ae47963170d1660df7f56f5faf\n",
        "```"
      ],
      "metadata": {
        "id": "beWK-WLhWjFv"
      }
    },
    {
      "cell_type": "code",
      "source": [
        "KEY1 = unhex(\"a6c8b6733c9b22de7bc0253266a3867df55acde8635e19c73313\")\n",
        "KEY21 = unhex(\"37dcb292030faa90d07eec17e3b1c6d8daf94c35d4c9191a5e1e\")\n",
        "KEY23 = unhex(\"c1545756687e7573db23aa1c3452a098b71a7fbf0fddddde5fc1\")\n",
        "FLAG_KEY132 = unhex(\"04ee9855208a2cd59091d04767ae47963170d1660df7f56f5faf\")\n",
        "\n",
        "from pwnlib.util.fiddling import xor\n",
        "FLAG = xor(FLAG_KEY132,KEY1,KEY23).decode()\n",
        "print(FLAG)"
      ],
      "metadata": {
        "colab": {
          "base_uri": "https://localhost:8080/"
        },
        "id": "HscHi7ilW45f",
        "outputId": "d71e51a1-cc14-4243-882e-bb99d414acf4"
      },
      "execution_count": 181,
      "outputs": [
        {
          "output_type": "stream",
          "name": "stdout",
          "text": [
            "crypto{x0r_i5_ass0c1at1v3}\n"
          ]
        }
      ]
    },
    {
      "cell_type": "markdown",
      "source": [
        "## Favorite Byte\n",
        "I've hidden some data using XOR with a single byte, but that byte is a secret. Don't forget to decode from hex first.\n",
        "\n",
        "**`73626960647f6b206821204f21254f7d694f7624662065622127234f726927756d`**"
      ],
      "metadata": {
        "id": "5O1oONgqZd_s"
      }
    },
    {
      "cell_type": "code",
      "source": [
        "from pwnlib.util.fiddling import xor\n",
        "\n",
        "cipher = \"73626960647f6b206821204f21254f7d694f7624662065622127234f726927756d\"\n",
        "cipher = unhex(cipher)\n",
        "for i in range(256):\n",
        "  rslt = xor(cipher,i)\n",
        "  if \"crypt\".encode() in rslt:\n",
        "    print(rslt)"
      ],
      "metadata": {
        "colab": {
          "base_uri": "https://localhost:8080/"
        },
        "id": "R1UCjzq2ZkAK",
        "outputId": "9ccf99e3-1b92-467d-b43f-4714f5910163"
      },
      "execution_count": 244,
      "outputs": [
        {
          "output_type": "stream",
          "name": "stdout",
          "text": [
            "b'crypto{0x10_15_my_f4v0ur173_by7e}'\n"
          ]
        }
      ]
    },
    {
      "cell_type": "markdown",
      "source": [
        "## You either know, XOR you don't\n",
        "\n",
        "I've encrypted the flag with my secret key, you'll never be able to guess it. \n",
        "\n",
        "**`0e0b213f26041e480b26217f27342e175d0e070a3c5b103e2526217f27342e175d0e077e263451150104 `**"
      ],
      "metadata": {
        "id": "FRIFMxvjqkZq"
      }
    },
    {
      "cell_type": "code",
      "source": [
        "from pwnlib.util.fiddling import xor\n",
        "\n",
        "cipher = \"0e0b213f26041e480b26217f27342e175d0e070a3c5b103e2526217f27342e175d0e077e263451150104\"\n",
        "cipher = unhex(cipher)\n",
        "print(xor(\"crypto{\".encode(),cipher[:9]))"
      ],
      "metadata": {
        "colab": {
          "base_uri": "https://localhost:8080/"
        },
        "id": "1k62EOZhqw29",
        "outputId": "c6b10b86-6b06-42a7-a157-057ea30ed178"
      },
      "execution_count": 248,
      "outputs": [
        {
          "output_type": "stream",
          "name": "stdout",
          "text": [
            "b'myXORke+y'\n"
          ]
        }
      ]
    },
    {
      "cell_type": "code",
      "source": [
        "print(xor(\"myXORkey\".encode(),cipher))"
      ],
      "metadata": {
        "colab": {
          "base_uri": "https://localhost:8080/"
        },
        "id": "2L1FvvHNr8qc",
        "outputId": "1d288c30-8574-4c71-e8cd-7cd5028a8656"
      },
      "execution_count": 249,
      "outputs": [
        {
          "output_type": "stream",
          "name": "stdout",
          "text": [
            "b'crypto{1f_y0u_Kn0w_En0uGH_y0u_Kn0w_1t_4ll}'\n"
          ]
        }
      ]
    },
    {
      "cell_type": "markdown",
      "source": [
        "## Lemur XOR\n",
        "\n",
        "I've hidden two cool images by XOR with the same secret key so you can't see them!\n",
        "\n",
        "Challenge files:\n",
        "  - lemur.png: https://cryptohack.org/static/challenges/lemur_ed66878c338e662d3473f0d98eedbd0d.png\n",
        "  - flag.png: https://cryptohack.org/static/challenges/flag_7ae18c704272532658c10b5faad06d74.png"
      ],
      "metadata": {
        "id": "wMrOL0_bsXYL"
      }
    },
    {
      "cell_type": "code",
      "source": [
        "!wget https://cryptohack.org/static/challenges/lemur_ed66878c338e662d3473f0d98eedbd0d.png\n",
        "!wget https://cryptohack.org/static/challenges/flag_7ae18c704272532658c10b5faad06d74.png"
      ],
      "metadata": {
        "colab": {
          "base_uri": "https://localhost:8080/"
        },
        "id": "e2TI1KoOskxY",
        "outputId": "e3203b4e-5964-46f0-dfff-85b011edeeac"
      },
      "execution_count": 250,
      "outputs": [
        {
          "output_type": "stream",
          "name": "stdout",
          "text": [
            "--2022-11-27 15:26:44--  https://cryptohack.org/static/challenges/lemur_ed66878c338e662d3473f0d98eedbd0d.png\n",
            "Resolving cryptohack.org (cryptohack.org)... 178.62.74.206\n",
            "Connecting to cryptohack.org (cryptohack.org)|178.62.74.206|:443... connected.\n",
            "HTTP request sent, awaiting response... 200 OK\n",
            "Length: 572187 (559K) [image/png]\n",
            "Saving to: ‘lemur_ed66878c338e662d3473f0d98eedbd0d.png’\n",
            "\n",
            "\r          lemur_ed6   0%[                    ]       0  --.-KB/s               \rlemur_ed66878c338e6 100%[===================>] 558.78K  --.-KB/s    in 0.04s   \n",
            "\n",
            "2022-11-27 15:26:44 (13.5 MB/s) - ‘lemur_ed66878c338e662d3473f0d98eedbd0d.png’ saved [572187/572187]\n",
            "\n",
            "--2022-11-27 15:26:44--  https://cryptohack.org/static/challenges/flag_7ae18c704272532658c10b5faad06d74.png\n",
            "Resolving cryptohack.org (cryptohack.org)... 178.62.74.206\n",
            "Connecting to cryptohack.org (cryptohack.org)|178.62.74.206|:443... connected.\n",
            "HTTP request sent, awaiting response... 200 OK\n",
            "Length: 572186 (559K) [image/png]\n",
            "Saving to: ‘flag_7ae18c704272532658c10b5faad06d74.png’\n",
            "\n",
            "flag_7ae18c70427253 100%[===================>] 558.78K  --.-KB/s    in 0.05s   \n",
            "\n",
            "2022-11-27 15:26:44 (11.2 MB/s) - ‘flag_7ae18c704272532658c10b5faad06d74.png’ saved [572186/572186]\n",
            "\n"
          ]
        }
      ]
    },
    {
      "cell_type": "code",
      "source": [],
      "metadata": {
        "id": "gUlkB7cysrx4"
      },
      "execution_count": null,
      "outputs": []
    }
  ]
}